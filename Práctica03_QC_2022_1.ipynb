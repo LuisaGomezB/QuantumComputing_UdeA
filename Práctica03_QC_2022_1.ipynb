{
 "cells": [
  {
   "cell_type": "markdown",
   "metadata": {
    "id": "D9_wPQCM3FSo"
   },
   "source": [
    "<center>    \n",
    "    <font size=\"6\">\n",
    "        Práctica N°3:\n",
    "        <br>\n",
    "        Aplicación en la Bioinformática\n",
    "    </font>\n",
    "    <br>\n",
    "    <br>\n",
    "    <br>\n",
    "    <br>\n",
    "    <font size=\"4\">\n",
    "        Luisa Fernanda Gómez Buitrago\n",
    "        <br>\n",
    "        Luis Javier Zuluaga Betancur\n",
    "        <br>\n",
    "        <br>\n",
    "        <br>\n",
    "    </font>\n",
    "    <font size=\"3\">\n",
    "        Computación Cuántica\n",
    "        <br>\n",
    "        Facultad de Ingeniería\n",
    "        <br>\n",
    "        Universidad de Antioquia\n",
    "        <br>\n",
    "        2022.1 \n",
    "    </font>\n",
    "</center>  "
   ]
  },
  {
   "cell_type": "markdown",
   "metadata": {},
   "source": [
    "---"
   ]
  },
  {
   "cell_type": "markdown",
   "metadata": {
    "id": "TodBOKqtggIw"
   },
   "source": [
    "<p align=\"justify\">\n",
    " <font size=\"3\"><b>Introducción:</b> Una de las mayores aplicaciones en la Bioinformática es la comparación de cadenas de <i><b> strings </i></b> provenientes de secuencias genéticas de DNA y RNA. Dicha comparación corresponde a un caso particular del reconocimiento de una secuencia de caracteres ASCII en un determinado alfabeto, según la Teoría de Lenguajes. \n",
    " \n",
    "En  esta  práctica  de  laboratorio  utilizaremos  las  bondades  de  la  <u>superposición  cuántica</u>  para comparar  múltiples  secuencias  de  caracteres  provenientes  de  la  secuenciación  genética  de diferentes especies animales y de bacterias. \n",
    "</font>\n",
    "</p>"
   ]
  },
  {
   "cell_type": "markdown",
   "metadata": {
    "id": "VKFHX1aqggGI"
   },
   "source": [
    "<h3> <b>1. <u>Análisis de un ejemplo del Tutorial del Qiskit</u></b></h3>\n",
    "\n",
    "Analice  el  ejemplo del Tutorial del <b>Qiskit</b> denominado <b><i>“Comparing Strings with Quantum Superposition”</i></b>, compartido en el siguiente enlace de <b>Microsoft Teams</b>: \n",
    "\n",
    "<center><a href=\"https://udeaeduco.sharepoint.com/sites/ComputacinCuntica2022.1/Class%20Materials/Forms/AllItems.aspx?id=%2Fsites%2FComputacinCuntica2022%2E1%2FClass%20Materials%2FLAB%2FPR3%2FComparing%20Strings&p=true&ga=1\" target=\"_blank\">Comparación de Strings</a></center>"
   ]
  },
  {
   "cell_type": "markdown",
   "metadata": {
    "id": "g0xMEKAFggBZ"
   },
   "source": [
    "<ol>\n",
    "<b>1.1.</b> Explique el modo utilizado en este ejemplo para representar <i>cuánticamente</i> las tres secuencias de <i><b>strings</b></i> asociadas a los códigos genéticos del <i><b>Yeast</b></i>, <i><b>Protozoan</b></i> y <i><b>Bacterial</b></i>.\n",
    "<br>\n",
    "<ul>\n",
    "<li>Explique de qué manera se usa la <u>superposición  cuántica</u> para representar dichos <i><b>strings</b></i>.</li>\n",
    "</ul>\n",
    "    \n",
    "</ol>"
   ]
  },
  {
   "cell_type": "markdown",
   "metadata": {
    "id": "_U354nYtgf_T"
   },
   "source": [
    "<ol>\n",
    "<b>1.2.</b> En sus propias palabras explique la función <b>encode_bitstring( )</b>, así como <u>las instrucciones más relevantes</u> de esta función. \n",
    "</ol>"
   ]
  },
  {
   "cell_type": "markdown",
   "metadata": {
    "id": "kEtCCv9Egf9V"
   },
   "source": [
    "<ol>\n",
    "<b>1.3.</b> Explique la necesidad de invertir cada uno de los <u>tres circuitos cuánticos creados</u> para las tres secuencias de <i><b>strings</b></i> que son comparadas en este ejemplo.\n",
    "\n",
    "<ul>\n",
    "<li>Presente un ejemplo matemático del <u>proceso de inversión</u> utilizado en este código para comparar las secuencias de <i><b>strings</b></i>.</li>\n",
    "<li>¿De qué manera se evidencia la <b>reversibilidad</b> cuántica en la comparación entre las secuencias de <i><b>strings</b></i> dadas? <b>Explique</b>.</li>\n",
    "</ul>\n",
    "    \n",
    "<ol>"
   ]
  },
  {
   "cell_type": "markdown",
   "metadata": {
    "id": "R8ps5mZYgf7Z"
   },
   "source": [
    "<ol>\n",
    "<b>1.4.</b> Modifique el código compartido, y obtenga una <u>representación circuital</u> del circuito cuántico de comparación de <i><b>bitstrings</b></i>. \n",
    "<ol>"
   ]
  },
  {
   "cell_type": "markdown",
   "metadata": {
    "id": "uFE5yrMLgf46"
   },
   "source": [
    "<h3> <b>2. <u>Comparación de secuencias genéticas de diversos animales </u></b></h3>\n",
    "\n",
    "Modifique el código en Python del ejemplo analizado en la sección anterior, a fin de comparar tres de las secuencias genéticas dadas en la siguiente página, referentes a cinco especies animales (Cabra, Caballo, Paloma, Pato y Gallina): \n",
    "\n",
    "<center><a href=\"https://services.healthtech.dtu.dk/services/VirtualRibosome-2.0/examples/alpha-globins.fsa\" target=\"_blank\">Secuencias genéticas</a></center>"
   ]
  },
  {
   "cell_type": "markdown",
   "metadata": {
    "id": "XJdol3Czgf20"
   },
   "source": [
    "<ol>\n",
    "<b>2.1.</b> A partir de la modificación de dicho código, elabore un programa en Qiskit que analice y compare entre sí, tres de las secuencias genéticas mostradas en dicha página. Observe que, a diferencia  del  ejemplo  analizado  en  la  sección  anterior,  las  secuencias  genéticas  ahora indicadas corresponden a <i><b>strings</b></i> compuestos por los nucleótidos <i><b>“A”</b></i>, <i><b>“C”</b></i>, <i><b>“G”</b></i>, y <i><b>“T”</b></i>.\n",
    "\n",
    "<ul>\n",
    "  <li>¿Cómo puede representar estos cuatro nucleótidos, en su nuevo programa descrito en <b>Qiskit</b>?</li>\n",
    "</ul>\n",
    "\n",
    "</ol>"
   ]
  },
  {
   "cell_type": "markdown",
   "metadata": {
    "id": "bg4vUug3tBhP"
   },
   "source": [
    "<ol>\n",
    "<b>2.2.</b> Como caso particular para analizar en su programa, considere las tres secuencias genéticas mostradas en la <b>Tabla 1</b>, de acuerdo con su <u>primer apellido</u>. \n",
    "</ol>\n",
    "\n",
    "<table>\n",
    "<thead>\n",
    "  <tr>\n",
    "    <th>Apellidos</th>\n",
    "    <th colspan=\"3\">Secuencia genómica a comparar</th>\n",
    "  </tr>\n",
    "</thead>\n",
    "<tbody>\n",
    "  <tr>\n",
    "    <td>Arbeláez - Bernal</td>\n",
    "    <td>Paloma – (Alpha-D)</td>\n",
    "    <td>Pato - (Alpha-D)</td>\n",
    "    <td>Gallina – (Alpha-D)</td>\n",
    "  </tr>\n",
    "  <tr>\n",
    "    <td>Cadavid - Gómez</td>\n",
    "    <td>Cabra – (Alpha-i)</td>\n",
    "    <td>Caballo – (Alpha-1)</td>\n",
    "    <td>Pato – (Alpha-A)</td>\n",
    "  </tr>\n",
    "  <tr>\n",
    "    <td>González - Marmolejo</td>\n",
    "    <td>Paloma – (Alpha-A)</td>\n",
    "    <td>Pato - (Alpha-A)</td>\n",
    "    <td>Gallina – (Alpha-A)</td>\n",
    "  </tr>\n",
    "  <tr>\n",
    "    <td>Martínez - Mesa</td>\n",
    "    <td>Cabra – (Alpha-ii)</td>\n",
    "    <td>Caballo – (Alpha-2)</td>\n",
    "    <td>Pato – (Alpha-A)</td>\n",
    "  </tr>\n",
    "  <tr>\n",
    "    <td>Moreno - Orbes</td>\n",
    "    <td>Caballo – (Alpha-1)</td>\n",
    "    <td>Pato – (Alpha-D)</td>\n",
    "    <td>Cabra – (Alpha-ii)</td>\n",
    "  </tr>\n",
    "  <tr>\n",
    "    <td>Orozco - Restrepo</td>\n",
    "    <td>Paloma – (Alpha-D)</td>\n",
    "    <td>Caballo – (Alpha-1)</td>\n",
    "    <td>Cabra – (Alpha-ii)</td>\n",
    "  </tr>\n",
    "  <tr>\n",
    "    <td>Rodríguez - Valencia</td>\n",
    "    <td>Cabra – (Alpha-ii)</td>\n",
    "    <td>Gallina – (Alpha-A)</td>\n",
    "    <td>Caballo – (Alpha-1)</td>\n",
    "  </tr>\n",
    "  <tr>\n",
    "    <td>Vásquez - Zuluaga</td>\n",
    "    <td>Caballo – (Alpha-2)</td>\n",
    "    <td>Cabra – (Alpha-i)</td>\n",
    "    <td>Gallina – (Alpha-D)</td>\n",
    "  </tr>\n",
    "</tbody>\n",
    "</table>\n",
    "\n",
    "<center><b>Tabla 1:</b> Comparaciones entre animales a realizar en la presente práctica, de acuerdo con su primer apellido o el de su compañero(a).</center>\n"
   ]
  },
  {
   "cell_type": "markdown",
   "metadata": {
    "id": "6mY7zehqtBaD"
   },
   "source": [
    "<ol>\n",
    "    <ul>\n",
    "        <li>Presente y explique su representación de la secuencia genética de cada animal asignado, como un estado cuántico de <b>n</b> qubits.</li>\n",
    "        <li>Describa su manera de representar en <b>Qiskit</b> cada una de las secuencias genéticas de sus animales asignados.</li>\n",
    "    </ul>    \n",
    "\n",
    "</ol>"
   ]
  },
  {
   "cell_type": "markdown",
   "metadata": {
    "id": "pEPECTP8tBQZ"
   },
   "source": [
    "<ol>\n",
    "\n",
    "<b>2.3.</b>  Como una prueba del buen funcionamiento de su nuevo programa, presente el resultado de similaridad de una de las secuencias consigo misma. \n",
    "    \n",
    "<ul>\n",
    "    <li>Luego <u>modifique sólo uno de los nucleótidos</u> de la cadena genética dada, y realice su comparación con la secuencia genética original. Determine la similaridad entre ambas cadenas genéticas.</li>\n",
    "</ul> \n",
    "\n",
    "</ol>"
   ]
  },
  {
   "cell_type": "markdown",
   "metadata": {
    "id": "RVPKdX0TtBJc"
   },
   "source": [
    "<ol>\n",
    "\n",
    "<b>2.4.</b>  Obtenga una representación circuital de su circuito de comparación de secuencias genéticas. \n",
    "\n",
    "<ul>\n",
    "    <li>Explique los componentes de cada circuito.</li>\n",
    "</ul> \n",
    "\n",
    "</ol>"
   ]
  },
  {
   "cell_type": "markdown",
   "metadata": {
    "id": "wMZLjdsRyst_"
   },
   "source": [
    "<ol>\n",
    "<b>2.5.</b> Presente los resultados de las tres comparaciones asignadas en la <b>Tabla 1</b>, y determine el grado de similaridad genética entre animales. \n",
    "\n",
    "\n",
    "<ul>\n",
    "    <li> Simule su código en el servicio <b>ibmq_qasm_simulator</b> ofrecido por IBM. </li>\n",
    "    <li> Agregue una representación de histogramas, o diagramas de correlación, para observar su medida de comparación entre animales. </li>\n",
    "</ul>\n",
    "\n",
    "\n",
    "</ol>"
   ]
  },
  {
   "cell_type": "markdown",
   "metadata": {
    "id": "FRnShqDoysc4"
   },
   "source": [
    "<ol>\n",
    "\n",
    "<b>2.6.</b> Elimine todos los comentarios y explicaciones presentados en el código fuente original, y <u>agregue comentarios y explicaciones propios en español</u>. Personalice su código tanto como le sea posible.\n",
    "\n",
    "</ol>"
   ]
  },
  {
   "cell_type": "markdown",
   "metadata": {
    "id": "OkZ0rAVbysTw"
   },
   "source": [
    "<h3> <b>3. <u>Opcional: Comparación de secuencias genéticas de diversos animales en un \n",
    "computador cuántico real. </u></b></h3>\n",
    "\n",
    "Dado que su circuito cuántico para la comparación de las secuencias genéticas asignadas requiere <u>más de siete (7) qubits</u>, los procesadores cuánticos actualmente disponibles para el curso <u>no lograrán ejecutar todo el circuito completo</u>. Sin embargo, sería posible una ejecución de una subsección del circuito."
   ]
  },
  {
   "cell_type": "markdown",
   "metadata": {
    "id": "1lkxCS1f0SFk"
   },
   "source": [
    "<ol>\n",
    "<b>3.1.</b> De manera opcional, presente sus intentos de ejecución una versión truncada, o de una subsección de sus circuitos cuánticos, en uno de los <u>procesadores cuánticos</u> disponibles en el proveedor <i><b>ibm-q-education/uni-antioquia-1</b></i> asignado por IBM a la Universidad de Antioquia. \n",
    "\n",
    "<ul>\n",
    "    <li> Si considera necesario, solicite al profesor la reserva de una ventana de tiempo en el proveedor <i><b>ibm-q-education/uni-antioquia-1</b></i>, para el uso prioritario de uno de los procesadores de <u>siete qubits</u> disponibles para la Universidad. </li>\n",
    "</ul>    \n",
    "</ol> "
   ]
  },
  {
   "cell_type": "markdown",
   "metadata": {
    "id": "ioTofQOm0R_v"
   },
   "source": [
    "<ol>\n",
    "<b>3.2.</b> Presente comparaciones entre la ejecución mediante simulación, y la ejecución en un \n",
    "procesador cuántico real. Explique las diferencias presentadas.\n",
    "</ol>"
   ]
  },
  {
   "cell_type": "markdown",
   "metadata": {
    "id": "y5ZOVBXr0R1a"
   },
   "source": [
    "<h3> <b>4. <u>Informe</u></b></h3>\n",
    "<ol>\n",
    "\n",
    "<b>4.1.</b> Realice su informe con su respuesta a las preguntas indicadas en la presente guía de laboratorio. <br> \n",
    "\n",
    "<b>4.2.</b> Presente los detalles de ejecución de su código desarrollado para comparar las secuencias genéticas de los animales asignados. <br>\n",
    "\n",
    "<b>4.3.</b> Indique su análisis e interpretación de cada resultado obtenido en el presente laboratorio. <br>\n",
    "\n",
    "<b>4.4.</b> Dentro de este análisis, evalúe la diferencia entre la ejecución del ejemplo dado en el Tutorial del Qiskit, y su nuevo programa realizado para la secuencia genética asignada. <br>\n",
    "\n",
    "<b>4.5.</b> Adjunte a este informe un archivo zip con los códigos escritos y “pantallazos” de cada ejecución realizada. <br>\n",
    "\n",
    "<b>4.6.</b> Presente conclusiones, y bibliografía utilizada para realizar este informe. <br>\n",
    "\n",
    "</ol>"
   ]
  }
 ],
 "metadata": {
  "colab": {
   "collapsed_sections": [],
   "name": "Práctica03 - QC - 2022-1.ipynb",
   "provenance": []
  },
  "kernelspec": {
   "display_name": "Python 3 (ipykernel)",
   "language": "python",
   "name": "python3"
  },
  "language_info": {
   "codemirror_mode": {
    "name": "ipython",
    "version": 3
   },
   "file_extension": ".py",
   "mimetype": "text/x-python",
   "name": "python",
   "nbconvert_exporter": "python",
   "pygments_lexer": "ipython3",
   "version": "3.9.12"
  }
 },
 "nbformat": 4,
 "nbformat_minor": 1
}
